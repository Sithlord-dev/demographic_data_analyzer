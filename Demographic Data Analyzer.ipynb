{
 "cells": [
  {
   "cell_type": "markdown",
   "id": "yellow-freight",
   "metadata": {},
   "source": [
    "# Demographic Data Analyzer"
   ]
  },
  {
   "cell_type": "markdown",
   "id": "early-adjustment",
   "metadata": {},
   "source": [
    "![separator](files/sep.jpeg)"
   ]
  },
  {
   "cell_type": "markdown",
   "id": "approximate-sentence",
   "metadata": {},
   "source": [
    "We analyze demographic data using Pandas:"
   ]
  },
  {
   "cell_type": "code",
   "execution_count": 200,
   "id": "mighty-elevation",
   "metadata": {},
   "outputs": [],
   "source": [
    "import numpy as np\n",
    "import pandas as pd"
   ]
  },
  {
   "cell_type": "markdown",
   "id": "headed-diving",
   "metadata": {},
   "source": [
    "Given a dataset of demographic data that was extracted from the 1994 Census database. Here is a sample of what the data looks like:"
   ]
  },
  {
   "cell_type": "code",
   "execution_count": 219,
   "id": "political-salon",
   "metadata": {},
   "outputs": [
    {
     "data": {
      "text/html": [
       "<div>\n",
       "<style scoped>\n",
       "    .dataframe tbody tr th:only-of-type {\n",
       "        vertical-align: middle;\n",
       "    }\n",
       "\n",
       "    .dataframe tbody tr th {\n",
       "        vertical-align: top;\n",
       "    }\n",
       "\n",
       "    .dataframe thead th {\n",
       "        text-align: right;\n",
       "    }\n",
       "</style>\n",
       "<table border=\"1\" class=\"dataframe\">\n",
       "  <thead>\n",
       "    <tr style=\"text-align: right;\">\n",
       "      <th></th>\n",
       "      <th>age</th>\n",
       "      <th>workclass</th>\n",
       "      <th>fnlwgt</th>\n",
       "      <th>education</th>\n",
       "      <th>education-num</th>\n",
       "      <th>marital-status</th>\n",
       "      <th>occupation</th>\n",
       "      <th>relationship</th>\n",
       "      <th>race</th>\n",
       "      <th>sex</th>\n",
       "      <th>capital-gain</th>\n",
       "      <th>capital-loss</th>\n",
       "      <th>hours-per-week</th>\n",
       "      <th>native-country</th>\n",
       "      <th>salary</th>\n",
       "    </tr>\n",
       "  </thead>\n",
       "  <tbody>\n",
       "    <tr>\n",
       "      <th>0</th>\n",
       "      <td>39</td>\n",
       "      <td>State-gov</td>\n",
       "      <td>77516</td>\n",
       "      <td>Bachelors</td>\n",
       "      <td>13</td>\n",
       "      <td>Never-married</td>\n",
       "      <td>Adm-clerical</td>\n",
       "      <td>Not-in-family</td>\n",
       "      <td>White</td>\n",
       "      <td>Male</td>\n",
       "      <td>2174</td>\n",
       "      <td>0</td>\n",
       "      <td>40</td>\n",
       "      <td>United-States</td>\n",
       "      <td>&lt;=50K</td>\n",
       "    </tr>\n",
       "    <tr>\n",
       "      <th>1</th>\n",
       "      <td>50</td>\n",
       "      <td>Self-emp-not-inc</td>\n",
       "      <td>83311</td>\n",
       "      <td>Bachelors</td>\n",
       "      <td>13</td>\n",
       "      <td>Married-civ-spouse</td>\n",
       "      <td>Exec-managerial</td>\n",
       "      <td>Husband</td>\n",
       "      <td>White</td>\n",
       "      <td>Male</td>\n",
       "      <td>0</td>\n",
       "      <td>0</td>\n",
       "      <td>13</td>\n",
       "      <td>United-States</td>\n",
       "      <td>&lt;=50K</td>\n",
       "    </tr>\n",
       "    <tr>\n",
       "      <th>2</th>\n",
       "      <td>38</td>\n",
       "      <td>Private</td>\n",
       "      <td>215646</td>\n",
       "      <td>HS-grad</td>\n",
       "      <td>9</td>\n",
       "      <td>Divorced</td>\n",
       "      <td>Handlers-cleaners</td>\n",
       "      <td>Not-in-family</td>\n",
       "      <td>White</td>\n",
       "      <td>Male</td>\n",
       "      <td>0</td>\n",
       "      <td>0</td>\n",
       "      <td>40</td>\n",
       "      <td>United-States</td>\n",
       "      <td>&lt;=50K</td>\n",
       "    </tr>\n",
       "    <tr>\n",
       "      <th>3</th>\n",
       "      <td>53</td>\n",
       "      <td>Private</td>\n",
       "      <td>234721</td>\n",
       "      <td>11th</td>\n",
       "      <td>7</td>\n",
       "      <td>Married-civ-spouse</td>\n",
       "      <td>Handlers-cleaners</td>\n",
       "      <td>Husband</td>\n",
       "      <td>Black</td>\n",
       "      <td>Male</td>\n",
       "      <td>0</td>\n",
       "      <td>0</td>\n",
       "      <td>40</td>\n",
       "      <td>United-States</td>\n",
       "      <td>&lt;=50K</td>\n",
       "    </tr>\n",
       "    <tr>\n",
       "      <th>4</th>\n",
       "      <td>28</td>\n",
       "      <td>Private</td>\n",
       "      <td>338409</td>\n",
       "      <td>Bachelors</td>\n",
       "      <td>13</td>\n",
       "      <td>Married-civ-spouse</td>\n",
       "      <td>Prof-specialty</td>\n",
       "      <td>Wife</td>\n",
       "      <td>Black</td>\n",
       "      <td>Female</td>\n",
       "      <td>0</td>\n",
       "      <td>0</td>\n",
       "      <td>40</td>\n",
       "      <td>Cuba</td>\n",
       "      <td>&lt;=50K</td>\n",
       "    </tr>\n",
       "  </tbody>\n",
       "</table>\n",
       "</div>"
      ],
      "text/plain": [
       "   age         workclass  fnlwgt  education  education-num  \\\n",
       "0   39         State-gov   77516  Bachelors             13   \n",
       "1   50  Self-emp-not-inc   83311  Bachelors             13   \n",
       "2   38           Private  215646    HS-grad              9   \n",
       "3   53           Private  234721       11th              7   \n",
       "4   28           Private  338409  Bachelors             13   \n",
       "\n",
       "       marital-status         occupation   relationship   race     sex  \\\n",
       "0       Never-married       Adm-clerical  Not-in-family  White    Male   \n",
       "1  Married-civ-spouse    Exec-managerial        Husband  White    Male   \n",
       "2            Divorced  Handlers-cleaners  Not-in-family  White    Male   \n",
       "3  Married-civ-spouse  Handlers-cleaners        Husband  Black    Male   \n",
       "4  Married-civ-spouse     Prof-specialty           Wife  Black  Female   \n",
       "\n",
       "   capital-gain  capital-loss  hours-per-week native-country salary  \n",
       "0          2174             0              40  United-States  <=50K  \n",
       "1             0             0              13  United-States  <=50K  \n",
       "2             0             0              40  United-States  <=50K  \n",
       "3             0             0              40  United-States  <=50K  \n",
       "4             0             0              40           Cuba  <=50K  "
      ]
     },
     "execution_count": 219,
     "metadata": {},
     "output_type": "execute_result"
    }
   ],
   "source": [
    "df = pd.read_csv('files/adult.data.csv', na_values = ['?'])\n",
    "\n",
    "df.head()"
   ]
  },
  {
   "cell_type": "markdown",
   "id": "valuable-malaysia",
   "metadata": {},
   "source": [
    "Using Pandas to get the answer to the following questions:\n",
    "* How many people of each race are represented in this dataset?"
   ]
  },
  {
   "cell_type": "code",
   "execution_count": 212,
   "id": "judicial-relaxation",
   "metadata": {},
   "outputs": [
    {
     "name": "stdout",
     "output_type": "stream",
     "text": [
      "White                 27816\n",
      "Black                  3124\n",
      "Asian-Pac-Islander     1039\n",
      "Amer-Indian-Eskimo      311\n",
      "Other                   271\n",
      "Name: race, dtype: int64\n"
     ]
    }
   ],
   "source": [
    "race_count = df['race'].value_counts()\n",
    "\n",
    "print(race_count)"
   ]
  },
  {
   "cell_type": "markdown",
   "id": "prepared-geometry",
   "metadata": {},
   "source": [
    "* What is the average age of men?"
   ]
  },
  {
   "cell_type": "code",
   "execution_count": 213,
   "id": "excited-digest",
   "metadata": {},
   "outputs": [
    {
     "name": "stdout",
     "output_type": "stream",
     "text": [
      "39.4\n"
     ]
    }
   ],
   "source": [
    "mask = df['sex'] == 'Male'\n",
    "average_age_men = df[mask]['age'].mean().round(1)\n",
    "\n",
    "print(average_age_men)"
   ]
  },
  {
   "cell_type": "markdown",
   "id": "simplified-passion",
   "metadata": {},
   "source": [
    "* What is the percentage of people who have a Bachelor's degree?"
   ]
  },
  {
   "cell_type": "code",
   "execution_count": 221,
   "id": "ignored-nudist",
   "metadata": {},
   "outputs": [
    {
     "name": "stdout",
     "output_type": "stream",
     "text": [
      "16.45%\n"
     ]
    }
   ],
   "source": [
    "mask = (df['education'] == 'Bachelors')\n",
    "percentage_bachelors = df[mask].size / df.size\n",
    "\n",
    "print(\"{:.2%}\".format(percentage_bachelors))"
   ]
  },
  {
   "cell_type": "markdown",
   "id": "hollywood-parameter",
   "metadata": {},
   "source": [
    "* What percentage of people with advanced education (`Bachelors`, `Masters`, or `Doctorate`) make more than 50K?"
   ]
  },
  {
   "cell_type": "code",
   "execution_count": 247,
   "id": "smart-country",
   "metadata": {},
   "outputs": [
    {
     "name": "stdout",
     "output_type": "stream",
     "text": [
      "46.54%\n"
     ]
    }
   ],
   "source": [
    "mask = ((df['education'] == 'Bachelors') | (df['education'] == 'Masters') | \n",
    "        (df['education'] == 'Doctorate'))\n",
    "higher_education = df[mask]\n",
    "higher_education_rich = higher_education[(higher_education['salary'] == '>50K')].size / higher_education.size \n",
    "\n",
    "print(\"{:.2%}\".format(higher_education_rich))"
   ]
  },
  {
   "cell_type": "markdown",
   "id": "chemical-parking",
   "metadata": {},
   "source": [
    "* What percentage of people without advanced education make more than 50K?"
   ]
  },
  {
   "cell_type": "code",
   "execution_count": 251,
   "id": "residential-mayor",
   "metadata": {},
   "outputs": [
    {
     "name": "stdout",
     "output_type": "stream",
     "text": [
      "17.37%\n"
     ]
    }
   ],
   "source": [
    "mask = ~((df['education'] == 'Bachelors') | (df['education'] == 'Masters') | \n",
    "        (df['education'] == 'Doctorate'))\n",
    "lower_education = df[mask]\n",
    "lower_education_rich = lower_education[(lower_education['salary'] == '>50K')].size / lower_education.size \n",
    "\n",
    "print(\"{:.2%}\".format(lower_education_rich))"
   ]
  },
  {
   "cell_type": "markdown",
   "id": "numerous-discussion",
   "metadata": {},
   "source": [
    "* What is the minimum number of hours a person works per week?"
   ]
  },
  {
   "cell_type": "code",
   "execution_count": 252,
   "id": "unauthorized-montgomery",
   "metadata": {},
   "outputs": [
    {
     "name": "stdout",
     "output_type": "stream",
     "text": [
      "1\n"
     ]
    }
   ],
   "source": [
    "min_work_hours = df['hours-per-week'].min()\n",
    "\n",
    "print(min_work_hours)"
   ]
  },
  {
   "cell_type": "markdown",
   "id": "complete-thanks",
   "metadata": {},
   "source": [
    "* What percentage of the people who work the minimum number of hours per week have a salary of more than 50K?"
   ]
  },
  {
   "cell_type": "code",
   "execution_count": 264,
   "id": "indonesian-tracker",
   "metadata": {},
   "outputs": [
    {
     "name": "stdout",
     "output_type": "stream",
     "text": [
      "10.00%\n"
     ]
    }
   ],
   "source": [
    "mask = (df['hours-per-week'] == min_work_hours)\n",
    "num_min_workers = df[mask]\n",
    "rich_percentage = num_min_workers[num_min_workers['salary'] == '>50K'].size / num_min_workers.size\n",
    "\n",
    "print(\"{:.2%}\".format(rich_percentage))"
   ]
  },
  {
   "cell_type": "markdown",
   "id": "powered-party",
   "metadata": {},
   "source": [
    "* What country has the highest percentage of people that earn >50K?"
   ]
  },
  {
   "cell_type": "code",
   "execution_count": 317,
   "id": "overall-florist",
   "metadata": {},
   "outputs": [
    {
     "name": "stdout",
     "output_type": "stream",
     "text": [
      "Iran\n"
     ]
    }
   ],
   "source": [
    "mask = df['salary'] == '>50K'\n",
    "rich_country = df['native-country'][mask].value_counts()\n",
    "\n",
    "highest_earning_country = round(rich_country / df['native-country'].value_counts() * 100,2).max()\n",
    "print(highest_earning_country)"
   ]
  },
  {
   "cell_type": "markdown",
   "id": "pointed-allocation",
   "metadata": {},
   "source": [
    "and what is that percentage?"
   ]
  },
  {
   "cell_type": "code",
   "execution_count": 335,
   "id": "manual-hunter",
   "metadata": {},
   "outputs": [
    {
     "name": "stdout",
     "output_type": "stream",
     "text": [
      "41.86%\n"
     ]
    }
   ],
   "source": [
    "print(\"{}%\".format(round(rich_country / df['native-country'].value_counts() * 100,2).max()))"
   ]
  },
  {
   "cell_type": "markdown",
   "id": "manual-shark",
   "metadata": {},
   "source": [
    "* Identify the most popular occupation for those who earn >50K in India. "
   ]
  },
  {
   "cell_type": "code",
   "execution_count": 343,
   "id": "amino-sleeping",
   "metadata": {},
   "outputs": [
    {
     "name": "stdout",
     "output_type": "stream",
     "text": [
      "Prof-specialty\n"
     ]
    }
   ],
   "source": [
    "mask = ((df['salary'] == '>50K') & (df['native-country'] == 'India'))\n",
    "top_IN_occupation = df[mask]['occupation'].value_counts().idxmax()\n",
    "\n",
    "print(top_IN_occupation)"
   ]
  },
  {
   "cell_type": "markdown",
   "id": "greater-willow",
   "metadata": {},
   "source": [
    "\n",
    "\n",
    "\n",
    "\n",
    "\n",
    "\n",
    "\n"
   ]
  }
 ],
 "metadata": {
  "kernelspec": {
   "display_name": "Python 3",
   "language": "python3",
   "name": "python3"
  },
  "language_info": {
   "codemirror_mode": {
    "name": "ipython",
    "version": 3
   },
   "file_extension": ".py",
   "mimetype": "text/x-python",
   "name": "python",
   "nbconvert_exporter": "python",
   "pygments_lexer": "ipython3",
   "version": "3.6.9"
  }
 },
 "nbformat": 4,
 "nbformat_minor": 5
}
